{
 "cells": [
  {
   "cell_type": "code",
   "execution_count": 13,
   "id": "4f00a888-7ecb-4ca9-9e44-3d0b392bd832",
   "metadata": {},
   "outputs": [],
   "source": [
    "# Lib para banco de dados\n",
    "import sqlite3"
   ]
  },
  {
   "cell_type": "code",
   "execution_count": 14,
   "id": "2691d87f-1968-4326-afa0-76238aa25a7f",
   "metadata": {},
   "outputs": [],
   "source": [
    "# Criar o banco [ Caso exista faz a conexao se nao conecta no banco ]\n",
    "Conexao_Banco = sqlite3.connect('Banco_Dados_API.db')"
   ]
  },
  {
   "cell_type": "code",
   "execution_count": 15,
   "id": "076e9d6d-7b23-4d54-b231-49905dea913c",
   "metadata": {},
   "outputs": [],
   "source": [
    "# Apontar para o banco\n",
    "Cursor = Conexao_Banco.cursor()"
   ]
  },
  {
   "cell_type": "code",
   "execution_count": null,
   "id": "f615d0eb-8b06-42b7-bb24-4afbd8a23fc8",
   "metadata": {},
   "outputs": [],
   "source": [
    "# Query --> Criar uma tabela\n",
    "\n",
    "Query_Criar_Banco = '''\n",
    "CREATE TABLE Log_API (\n",
    "    id INTEGER NOT NULL PRIMARY KEY AUTOINCREMENT,\n",
    "    Inputs TEXT,\n",
    "    Inicio TEXT,\n",
    "    Fim TEXT,\n",
    "    Processamento TEXT    I\n",
    ")\n",
    "'''\n",
    "\n",
    "# Executando a Query\n",
    "Cursor.execute(Query_Criar_Banco)"
   ]
  },
  {
   "cell_type": "code",
   "execution_count": null,
   "id": "a28bfe3f-e1e4-4eb7-9997-1042044ff523",
   "metadata": {},
   "outputs": [],
   "source": [
    "# Query --> Inserir informação\n",
    "\n",
    "Query_Inserir = '''\n",
    "    INSERT INTO Log_API (Inputs, Inicio, Fim, Processamento)\n",
    "    VALUES ('480;4;5;3;0;1;0;0;742', '01/01/2000 19:00:01', '01/01/2000 19:00:02', '00:01')\n",
    "'''\n",
    "\n",
    "# Executando a Query\n",
    "Cursor.execute(Query_Inserir)\n",
    "\n",
    "# Commit\n",
    "Conexao_Banco.commit()"
   ]
  },
  {
   "cell_type": "code",
   "execution_count": 18,
   "id": "452c37dd-1247-49be-9ba0-c35d5ea90247",
   "metadata": {},
   "outputs": [
    {
     "data": {
      "text/plain": [
       "[(1,\n",
       "  '480;4;5;3;0;1;0;0;742',\n",
       "  '01/01/2000 19:00:01',\n",
       "  '01/01/2000 19:00:02',\n",
       "  '00:01'),\n",
       " (2,\n",
       "  '480;4;5;3;0;1;0;0;742',\n",
       "  '01/01/2000 19:00:01',\n",
       "  '01/01/2000 19:00:02',\n",
       "  '00:01'),\n",
       " (3,\n",
       "  ';[9292.78396414]',\n",
       "  '2024-03-15 10:12:39.225160',\n",
       "  '2024-03-15 10:12:39.256164',\n",
       "  '0:00:00.031004'),\n",
       " (4,\n",
       "  ';[9339.97566972]',\n",
       "  '2024-03-15 10:14:08.945683',\n",
       "  '2024-03-15 10:14:09.017680',\n",
       "  '0:00:00.071997'),\n",
       " (5,\n",
       "  ';[9339.97566972]',\n",
       "  '2024-03-15 10:14:35.215022',\n",
       "  '2024-03-15 10:14:35.220017',\n",
       "  '0:00:00.004995'),\n",
       " (6,\n",
       "  ';[4625.9933516]',\n",
       "  '2024-03-15 10:16:49.807864',\n",
       "  '2024-03-15 10:16:49.817867',\n",
       "  '0:00:00.010003'),\n",
       " (7,\n",
       "  ';[4338.6705903]',\n",
       "  '2024-03-15 10:23:34.717231',\n",
       "  '2024-03-15 10:23:34.724232',\n",
       "  '0:00:00.007001')]"
      ]
     },
     "execution_count": 18,
     "metadata": {},
     "output_type": "execute_result"
    }
   ],
   "source": [
    "# Query --> Consulta\n",
    "Query_Consulta = '''\n",
    "    SELECT * FROM Log_API\n",
    "'''\n",
    "\n",
    "# Executando a Query\n",
    "Cursor.execute(Query_Consulta).fetchall()"
   ]
  },
  {
   "cell_type": "code",
   "execution_count": 17,
   "id": "b9418258-cdf0-4f66-8e17-162f53e45785",
   "metadata": {},
   "outputs": [],
   "source": [
    "# Nuvem --> VM --> Hospedagem\n",
    "\n",
    "# Fotografia"
   ]
  }
 ],
 "metadata": {
  "kernelspec": {
   "display_name": "Python 3 (ipykernel)",
   "language": "python",
   "name": "python3"
  },
  "language_info": {
   "codemirror_mode": {
    "name": "ipython",
    "version": 3
   },
   "file_extension": ".py",
   "mimetype": "text/x-python",
   "name": "python",
   "nbconvert_exporter": "python",
   "pygments_lexer": "ipython3",
   "version": "3.11.7"
  }
 },
 "nbformat": 4,
 "nbformat_minor": 5
}
