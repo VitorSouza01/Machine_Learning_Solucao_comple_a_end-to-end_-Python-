{
 "cells": [
  {
   "cell_type": "code",
   "execution_count": 1,
   "id": "43641a36-dd4e-4753-87e1-992437aa8b2d",
   "metadata": {},
   "outputs": [],
   "source": [
    "# Nosso sistema de conexão com a API"
   ]
  },
  {
   "cell_type": "code",
   "execution_count": 2,
   "id": "1ff8b002-7bf3-41b2-91ed-5db68873d6e0",
   "metadata": {},
   "outputs": [],
   "source": [
    "# Conexões\n",
    "import requests"
   ]
  },
  {
   "cell_type": "code",
   "execution_count": 10,
   "id": "c134608f-aa92-4c11-bda6-a6d0fe15d0b2",
   "metadata": {},
   "outputs": [
    {
     "data": {
      "text/plain": [
       "{'Valor_Aluguel': '[4338.6705903]'}"
      ]
     },
     "execution_count": 10,
     "metadata": {},
     "output_type": "execute_result"
    }
   ],
   "source": [
    "# Local da URL\n",
    "Url = 'http://127.0.0.1:5000/API_Preditivo/24;4;5;3;0;1;0;0;742'\n",
    "\n",
    "# Acessar a conexão\n",
    "Consulta = requests.get(Url)\n",
    "\n",
    "# Buscar a info\n",
    "Resposta = Consulta.json()\n",
    "\n",
    "# Devolução\n",
    "Resposta"
   ]
  },
  {
   "cell_type": "code",
   "execution_count": 4,
   "id": "0373b4f0-00a0-4223-888e-018b85571b8c",
   "metadata": {},
   "outputs": [],
   "source": [
    "# Tempo, Inputs --> Salvar --> Vendendo (qtd, inputs)"
   ]
  }
 ],
 "metadata": {
  "kernelspec": {
   "display_name": "Python 3 (ipykernel)",
   "language": "python",
   "name": "python3"
  },
  "language_info": {
   "codemirror_mode": {
    "name": "ipython",
    "version": 3
   },
   "file_extension": ".py",
   "mimetype": "text/x-python",
   "name": "python",
   "nbconvert_exporter": "python",
   "pygments_lexer": "ipython3",
   "version": "3.11.7"
  }
 },
 "nbformat": 4,
 "nbformat_minor": 5
}
